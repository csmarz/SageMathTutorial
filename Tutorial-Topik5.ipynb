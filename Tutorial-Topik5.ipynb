{
 "cells": [
  {
   "cell_type": "markdown",
   "metadata": {},
   "source": [
    "# Subtopik 5.1"
   ]
  },
  {
   "cell_type": "code",
   "execution_count": null,
   "metadata": {},
   "outputs": [],
   "source": [
    "F = GF(941)\n",
    "# Memeriksa apakah 627 adalah pembangkit dari F*\n",
    "g = F(627)\n",
    "print(g.is_primitive_root())\n",
    "# Komputasi nilai rahasia yang dilakukan Alice.\n",
    "a = 347\n",
    "# Nilai publik dari Alice\n",
    "print('Nilai publik dari Alice:')\n",
    "A = g^a; print(A)\n",
    "# Komputasi nilai rahasia yang dilakukan Bob.\n",
    "b = 781\n",
    "# Nilai publik dari Bob\n",
    "print('Nilai publik dari Bob:')\n",
    "B = g^b; print(B)\n",
    "# Pertukaran kunci\n",
    "# Alice mengirimkan A ke Bob. Bob mengirimkan B ke Alice.\n",
    "# Perhitungan kunci bersama.\n",
    "# Alice menghitung B^a\n",
    "keyAlice = A^b;\n",
    "# Bob menghitung A^b\n",
    "keyBob = B^a;\n",
    "# Memeriksa kesamaan dari kunci bersama yang diperoleh\n",
    "print('Memeriksa kesamaan kunci bersama yang diperoleh:')\n",
    "print(keyAlice == keyBob)"
   ]
  },
  {
   "cell_type": "code",
   "execution_count": null,
   "metadata": {},
   "outputs": [],
   "source": [
    "import random\n",
    "p = Integer(input('Masukan bilangan prima:'))\n",
    "F = GF(p)\n",
    "# Mencari pembangkit dari F*.\n",
    "print('Mencari pembangkit dari F*.')\n",
    "g = F.primitive_element(); print(g)\n",
    "# Komputasi rahasia Alice dan Bob.\n",
    "# Pangkat rahasia Alice.\n",
    "a = random.randint(1,p-1)\n",
    "# Pangkat rahasia Bob.\n",
    "b = random.randint(1,p-1)\n",
    "print('Nilai publik dan pertukarannya.')\n",
    "# Kalkulasi nilai publik dari Alice dan Bob.\n",
    "A = g^a; # A adalah nilai publik dari Alice.\n",
    "print('Nilai publik dari Alice, A: ', A)\n",
    "B = g^b; # B adalah nilai publik dari Bob.\n",
    "print('Nilai publik dari Bob, B: ',B)\n",
    "print('Alice dan Bob bertukar nilai A dan B')\n",
    "# Kalkulasi kunci bersama.\n",
    "print('Kalkulasi kunci bersama.')\n",
    "# keyAlice adalah kunci yang dihitung Alice\n",
    "keyAlice = B^a \n",
    "# keyBob adalah kunci yang dihitung Bob\n",
    "keyBob = A^b\n",
    "print('Pemeriksaaan kesamaan kunci.')\n",
    "print(keyAlice == keyBob)"
   ]
  },
  {
   "cell_type": "code",
   "execution_count": null,
   "metadata": {},
   "outputs": [],
   "source": [
    "p = 1009\n",
    "F = GF(p)\n",
    "g = F(11); print(g.is_primitive_root())\n",
    "A = F(787);\n",
    "B = F(717);\n",
    "# Mencari nilai a dari A = g^a pada GF(p).\n",
    "print('Pangkat rahasia Alice: ')\n",
    "a = A.log(g); print(a)\n",
    "# Mencari nilai b dari B = g^b pada GF(p).\n",
    "print('Pangkat rahasia Bob: ')\n",
    "b = B.log(g); print(b)\n",
    "# Mencari kunci rahasia bersama.\n",
    "print('Kunci rahasia bersama: ')\n",
    "key = g^(a*b);\n",
    "print(key)"
   ]
  },
  {
   "cell_type": "markdown",
   "metadata": {},
   "source": [
    "# Subtopik 5.2"
   ]
  },
  {
   "cell_type": "code",
   "execution_count": null,
   "metadata": {},
   "outputs": [],
   "source": [
    "F = GF(3851)\n",
    "E = EllipticCurve(F,[324,1287])\n",
    "print('Kurva eliptik yang digunakan.')\n",
    "print(E)\n",
    "print('Banyaknya titik pada kurva eliptik: ',E.cardinality())\n",
    "# Titik pembangkit dari E(F).\n",
    "P = E(1583,2701);\n",
    "print('Titik pembangkit yang digunakan: ',P)\n",
    "print('Orde dari titik pembangkit: ', P.order())\n",
    "print('Perhitungan nilai publik.')\n",
    "nA = 1194 # nilai rahasia dari Alice\n",
    "QA = nA*P # nilai publik dari Alice\n",
    "print('Nilai publik dari Alice: ',QA)\n",
    "nB = 1759 # nilai rahasia dari Bob\n",
    "QB = nB*P # nilai publik dari Bob\n",
    "print('Nilai publik dari Bob: ',QB)\n",
    "print('Alice dan Bob bertukar nilai QA dan QB.')\n",
    "# Kalkulasi kunci bersama.\n",
    "keyAlice = nA*QB\n",
    "keyBob = nB*QA\n",
    "print('Memeriksa kesamaan kunci yang digunakan.')\n",
    "print(keyAlice == keyBob)"
   ]
  },
  {
   "cell_type": "code",
   "execution_count": null,
   "metadata": {},
   "outputs": [],
   "source": [
    "import random\n",
    "# Field hingga yang dipakai.\n",
    "F = GF(1009)\n",
    "# Definisi kurva eliptik yang dipakai.\n",
    "print('Definisi kurva eliptik yang dipakai: ')\n",
    "E = EllipticCurve(F,[5,1])\n",
    "print(E)\n",
    "print('Banyaknya titik pada kurva eliptik: ',E.cardinality())\n",
    "# Mencari titik pembangkit atau titik dengan orde besar.\n",
    "P = E.gens()[0]\n",
    "print('Titik pembangkit: ', P)\n",
    "print('Orde dari titik pembangkit: ',P.order())\n",
    "# Simulasi pembangkitan nilai rahasia Alice dan Bob.\n",
    "ordP = P.order()\n",
    "nA = random.randint(1,ordP) # nilai rahasia Alice\n",
    "nB = random.randint(1,ordP) # nilai rahasia Bob\n",
    "# Kalkulasi nilai publik.\n",
    "print('Nilai publik yang dipertukarkan.')\n",
    "QA = nA * P # nilai publik Alice\n",
    "print('Nilai publik dari Alice, QA: ', QA)\n",
    "QB = nB * P # nilai publik Bob\n",
    "print('Nilai publik dari Bob, QB: ',QB)\n",
    "print('Alice dan Bob bertukar nilai QA dan QB.')\n",
    "# Kalkulasi kunci bersama.\n",
    "print('Kalkulasi kunci bersama.')\n",
    "keyAlice = nA * QB\n",
    "keyBob = nB * QA\n",
    "print('Pemeriksaan kesamaan kunci.')\n",
    "print(keyAlice == keyBob)"
   ]
  },
  {
   "cell_type": "code",
   "execution_count": null,
   "metadata": {},
   "outputs": [],
   "source": [
    "# Field hingga yang dipakai.\n",
    "F = GF(1009)\n",
    "# Definisi kurva eliptik yang dipakai.\n",
    "print('Definisi kurva eliptik yang dipakai: ')\n",
    "E = EllipticCurve(F,[5,1])\n",
    "# Titik pembangkit yang dipakai.\n",
    "P = E(553,684)\n",
    "print('Titik pembangkit yang dipakai: ', P)\n",
    "# Nilai-nilai publik yang diketahui.\n",
    "QA = E(243,211)\n",
    "print('Nilai publik Alice: ',QA)\n",
    "QB = E(321,982)\n",
    "print('Nilai publik Bob: ',QB)\n",
    "# Pencarian nilai rahasia Alice dan Bob.\n",
    "print('Pencarian nilai rahasia Alice dan Bob')\n",
    "nA = discrete_log(QA,P,P.order(),operation='+')\n",
    "print('Nilai rahasia Alice: ',nA)\n",
    "nB = discrete_log(QB,P,P.order(),operation='+')\n",
    "print('Nilai rahasia Bob: ',nB)\n",
    "# Mencari kunci bersama yang sifatnya rahasia.\n",
    "key = nA * nB * P\n",
    "print('Kunci rahasia bersama: ',key)"
   ]
  },
  {
   "cell_type": "markdown",
   "metadata": {},
   "source": [
    "# Subtopik 5.3"
   ]
  },
  {
   "cell_type": "code",
   "execution_count": null,
   "metadata": {},
   "outputs": [],
   "source": [
    "def string_to_int(mystring):\n",
    "    listm = [ord(x) for x in mystring]\n",
    "    myint = Integer(listm,base=128)\n",
    "    return myint"
   ]
  },
  {
   "cell_type": "code",
   "execution_count": null,
   "metadata": {},
   "outputs": [],
   "source": [
    "string_to_int('Halo Dunia!')"
   ]
  },
  {
   "cell_type": "code",
   "execution_count": null,
   "metadata": {},
   "outputs": [],
   "source": [
    "def int_to_string(n):\n",
    "    L = Integer(n).digits(base=128)\n",
    "    S = [chr(x) for x in L]\n",
    "    return ''.join(S)"
   ]
  },
  {
   "cell_type": "code",
   "execution_count": null,
   "metadata": {},
   "outputs": [],
   "source": [
    "int_to_string(39861819060035073552584)"
   ]
  },
  {
   "cell_type": "markdown",
   "metadata": {},
   "source": [
    "# Subtopik 5.4.1"
   ]
  },
  {
   "cell_type": "code",
   "execution_count": null,
   "metadata": {},
   "outputs": [],
   "source": [
    "import random\n",
    "def prime_list(a,b):\n",
    "    L = []\n",
    "    for i in range(a,b+1):\n",
    "        if Integer(i).is_prime() == True: L.append(Integer(i))\n",
    "    return L\n",
    "p = random.choice(prime_list(10^9-1000,10^9)); print(p)\n",
    "q = random.choice(prime_list(10^9-1000,10^9)); print(q)"
   ]
  },
  {
   "cell_type": "code",
   "execution_count": null,
   "metadata": {},
   "outputs": [],
   "source": [
    "p = 999999667\n",
    "q = 999999337\n",
    "phi = euler_phi(p*q); \n",
    "print(phi);\n",
    "print((p-1)*(q-1))\n",
    "factors = factor(phi); print(factors)\n",
    "L = []\n",
    "# mencari faktor prima dari (p-1)(q-1)\n",
    "for i in range(len(factors)):\n",
    "    L.append(factors[i][0])\n",
    "print(L)"
   ]
  },
  {
   "cell_type": "code",
   "execution_count": null,
   "metadata": {},
   "outputs": [],
   "source": [
    "# fungsi untuk membangkitkan dan memeriksa parameter publik\n",
    "# nilai p dan q diasumsikan prima dan berbeda\n",
    "def cekparamRSA(p,q,e):\n",
    "    N = p*q\n",
    "    phi = euler_phi(N)\n",
    "    if gcd(e,phi) == 1:\n",
    "        return (N,e)\n",
    "    else:\n",
    "        return('eksponen tidak valid')"
   ]
  },
  {
   "cell_type": "code",
   "execution_count": null,
   "metadata": {},
   "outputs": [],
   "source": [
    "print(cekparamRSA(999999667,999999337,1961))\n",
    "print(cekparamRSA(999999667,999999337,10403))"
   ]
  },
  {
   "cell_type": "code",
   "execution_count": null,
   "metadata": {},
   "outputs": [],
   "source": [
    "def encRSA(m,e,N):\n",
    "    return pow(m,e,N)"
   ]
  },
  {
   "cell_type": "code",
   "execution_count": null,
   "metadata": {},
   "outputs": [],
   "source": [
    "c = encRSA(123321111999888777,10403,999999004000220779)\n",
    "print(c)"
   ]
  },
  {
   "cell_type": "code",
   "execution_count": null,
   "metadata": {},
   "outputs": [],
   "source": [
    "def decRSA(c,e,p,q):\n",
    "    phi = euler_phi(p*q)\n",
    "    L = xgcd(e,phi)\n",
    "    d = L[1]%phi\n",
    "    return pow(c,d,p*q)"
   ]
  },
  {
   "cell_type": "code",
   "execution_count": null,
   "metadata": {},
   "outputs": [],
   "source": [
    "plaintext = decRSA(507424141543035091,10403,999999667,999999337)\n",
    "print(plaintext)"
   ]
  },
  {
   "cell_type": "markdown",
   "metadata": {},
   "source": [
    "# Subtopik 5.4.2"
   ]
  },
  {
   "cell_type": "code",
   "execution_count": null,
   "metadata": {},
   "outputs": [],
   "source": [
    "def signRSA(D,v,p,q):\n",
    "    # proses membuat tanda tangan untuk D\n",
    "    # nilai v adalah eksponen verifikasi yang diketahui secara publik\n",
    "    # nilai p dan q hanya diketahui oleh Samantha\n",
    "    N = p*q\n",
    "    phiN = euler_phi(N)\n",
    "    s = xgcd(v,phiN)[1]\n",
    "    Sig = pow(D,s,N) # Sig adalah nilai tanda tangan untuk D\n",
    "    return(D,Sig)"
   ]
  },
  {
   "cell_type": "code",
   "execution_count": null,
   "metadata": {},
   "outputs": [],
   "source": [
    "signRSA(123321111999888777,10403,999999667,999999337)"
   ]
  },
  {
   "cell_type": "code",
   "execution_count": null,
   "metadata": {},
   "outputs": [],
   "source": [
    "def verRSA(D,Sig,v,N):\n",
    "    # proses verifikasi tanda tangan Sig untuk D\n",
    "    # semua nilai parameter diketahui secara publik\n",
    "    check = pow(Sig,v,N)\n",
    "    if (check == D):\n",
    "        return 'tanda tangan valid'\n",
    "    else:\n",
    "        return 'tanda tangan tidak valid'"
   ]
  },
  {
   "cell_type": "code",
   "execution_count": null,
   "metadata": {},
   "outputs": [],
   "source": [
    "verRSA(123321111999888777,434267244747427400,10403,999999004000220779)"
   ]
  },
  {
   "cell_type": "code",
   "execution_count": null,
   "metadata": {},
   "outputs": [],
   "source": [
    "verRSA(123321111999888666,434267244747427401,10403,999999004000220779)"
   ]
  },
  {
   "cell_type": "markdown",
   "metadata": {},
   "source": [
    "# Subtopik 5.5"
   ]
  },
  {
   "cell_type": "code",
   "execution_count": null,
   "metadata": {},
   "outputs": [],
   "source": [
    "# fungsi prime_list(a,b) dari subtopik 2.1.3\n",
    "def prime_list(a,b):\n",
    "    L = []\n",
    "    for i in range(a,b+1):\n",
    "        if Integer(i).is_prime() == True: L.append(Integer(i))\n",
    "    return L"
   ]
  },
  {
   "cell_type": "code",
   "execution_count": null,
   "metadata": {},
   "outputs": [],
   "source": [
    "import random\n",
    "# fungsi untuk mengonstruksi parameter dan kunci publik pada sistemkripto Elgamal\n",
    "# pertama kita akan membangkitkan sebuah bilangan prima pada rentang [Min,Max]\n",
    "print('pertama kita bangkitkan sebuah bilangan prima pada selang [Min,Max]')\n",
    "Min, Max = map(Integer,input('masukkan Min dan Max, dipisahkan dengan spasi: ').split())\n",
    "print('Kita memakai fungsi prime_list(Min,Max) yang telah dibuat sebelumnya.')\n",
    "p = random.choice(prime_list(Min,Max))\n",
    "print('Field hingga yang dipakai.')\n",
    "F = GF(p); print(F)\n",
    "g = F.primitive_element()\n",
    "print('Elemen pembangkit yang dipakai: ',g)\n",
    "# konstruksi kunci rahasia untuk Bob\n",
    "b = random.randint(2,p-2)\n",
    "print('Kunci rahasia Bob, hanya diketahui Bob: ',b)\n",
    "# konstruksi kunci publik dari Bob\n",
    "B = g^b\n",
    "print('Kunci publik dari Bob, B: ',B)"
   ]
  },
  {
   "cell_type": "code",
   "execution_count": null,
   "metadata": {},
   "outputs": [],
   "source": [
    "import random\n",
    "# enkripsi pada protokol Elgamal\n",
    "# Di sini kita mengenkripsi pesan m dan kunci publik B\n",
    "def encElgamal(m,B):\n",
    "    k = random.randint(2,p-2)\n",
    "    c1 = F(g)^k\n",
    "    c2 = F(m)*F(B)^k\n",
    "    return (c1,c2)"
   ]
  },
  {
   "cell_type": "code",
   "execution_count": null,
   "metadata": {},
   "outputs": [],
   "source": [
    "# Parameter yang digunakan pada tutorial.\n",
    "p = 999209557\n",
    "print('Field hingga yang dipakai.')\n",
    "F = GF(p); print(F)\n",
    "# Pembangkit yang dipakai.\n",
    "g = F(13)\n",
    "print('Pembangkit yang dipakai, g = ',g)\n",
    "# Kunci rahasia yang dipakai Bob.\n",
    "b = 99568227;\n",
    "# Perhitungan kunci publik.\n",
    "B = g^b\n",
    "print('Kunci publik dari Bob, B = ',B)"
   ]
  },
  {
   "cell_type": "code",
   "execution_count": null,
   "metadata": {},
   "outputs": [],
   "source": [
    "import random\n",
    "# enkripsi pada protokol Elgamal\n",
    "# Di sini kita mengenkripsi pesan m dan kunci publik B\n",
    "def encElgamal(m,B):\n",
    "    k = random.randint(2,p-2)\n",
    "    c1 = F(g)^k\n",
    "    c2 = F(m)*F(B)^k\n",
    "    return (c1,c2)"
   ]
  },
  {
   "cell_type": "code",
   "execution_count": null,
   "metadata": {},
   "outputs": [],
   "source": [
    "encElgamal(123456789,246109803)"
   ]
  },
  {
   "cell_type": "code",
   "execution_count": null,
   "metadata": {},
   "outputs": [],
   "source": [
    "# dekripsi pada protokol Elgamal\n",
    "# Di sini kita mendekripsi (c1,c2) menggunakan kunci rahasia b.\n",
    "def decElgamal(c1,c2,b):\n",
    "    message = (F(c1)^b)^-1 * F(c2)\n",
    "    return message"
   ]
  },
  {
   "cell_type": "code",
   "execution_count": null,
   "metadata": {},
   "outputs": [],
   "source": [
    "print(decElgamal(563792691, 346249247,99568227))\n",
    "print(decElgamal(192981701,24127824,99568227))\n",
    "print(decElgamal(192981701,24127824,99568227))"
   ]
  },
  {
   "cell_type": "code",
   "execution_count": null,
   "metadata": {},
   "outputs": [],
   "source": []
  }
 ],
 "metadata": {
  "kernelspec": {
   "display_name": "SageMath 9.0",
   "language": "sage",
   "name": "sagemath"
  },
  "language_info": {
   "codemirror_mode": {
    "name": "ipython",
    "version": 3
   },
   "file_extension": ".py",
   "mimetype": "text/x-python",
   "name": "python",
   "nbconvert_exporter": "python",
   "pygments_lexer": "ipython3",
   "version": "3.7.3"
  }
 },
 "nbformat": 4,
 "nbformat_minor": 2
}
