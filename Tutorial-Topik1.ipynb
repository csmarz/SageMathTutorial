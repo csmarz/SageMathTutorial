{
 "cells": [
  {
   "cell_type": "markdown",
   "metadata": {},
   "source": [
    "# Subtopik 1.2.1"
   ]
  },
  {
   "cell_type": "code",
   "execution_count": null,
   "metadata": {},
   "outputs": [],
   "source": [
    "a=3\n",
    "b=5\n",
    "print('a==b',a==b)\n",
    "print('a<b',a<b)\n",
    "print('a<b',a<b)\n",
    "a=b\n",
    "print('a<=b',a<=b)\n",
    "print('a>=b',a>=b)"
   ]
  },
  {
   "cell_type": "code",
   "execution_count": null,
   "metadata": {},
   "outputs": [],
   "source": [
    "print(type(5))\n",
    "print(type(5.0))\n",
    "print(type('d'))\n",
    "print(type(True))"
   ]
  },
  {
   "cell_type": "code",
   "execution_count": null,
   "metadata": {},
   "outputs": [],
   "source": [
    "bool?"
   ]
  },
  {
   "cell_type": "code",
   "execution_count": null,
   "metadata": {},
   "outputs": [],
   "source": [
    "a=input(\"masukkan sebuah bilangan= \")\n",
    "print(type(a))"
   ]
  },
  {
   "cell_type": "code",
   "execution_count": null,
   "metadata": {},
   "outputs": [],
   "source": [
    "a=int(input('masukkan nilai 1= '))\n",
    "b=int(input('masukkan nilai 2= '))\n",
    "print('jumlah kedua bilangan=',a+b)\n",
    "a,b = map(int,input(\"masukkan 2 bilangan dipisahkan dengan spasi= \").split())\n",
    "print('hasil bagi (float) kedua bilangan=',a/b)\n",
    "print('hasil bagi (int) kedua bilangan=',a//b)"
   ]
  },
  {
   "cell_type": "markdown",
   "metadata": {},
   "source": [
    "# Subtopik 1.2.2"
   ]
  },
  {
   "cell_type": "code",
   "execution_count": null,
   "metadata": {},
   "outputs": [],
   "source": [
    "if 1==1:\n",
    "    print('aksi 1')\n",
    "else:\n",
    "    print('aksi 2')"
   ]
  },
  {
   "cell_type": "code",
   "execution_count": null,
   "metadata": {},
   "outputs": [],
   "source": [
    "if 1==1 and 5>10:\n",
    "    print('aksi 1')\n",
    "elif 5>=5.01 or 4<4:\n",
    "    print('aksi 2')\n",
    "else:\n",
    "    print('aksi 3')"
   ]
  },
  {
   "cell_type": "markdown",
   "metadata": {},
   "source": [
    "# Subtopik 1.2.3"
   ]
  },
  {
   "cell_type": "code",
   "execution_count": null,
   "metadata": {},
   "outputs": [],
   "source": [
    "i=1\n",
    "while (i<10):\n",
    "    print(i)\n",
    "    i+=1\n",
    "print(i,'tidak dicetak didalam loop')"
   ]
  },
  {
   "cell_type": "code",
   "execution_count": null,
   "metadata": {},
   "outputs": [],
   "source": [
    "for i in range (1,10):\n",
    "    print(i)\n",
    "print(i,'tidak dicetak didalam loop')\n",
    "list1 = ['sate','bakso','geprek']\n",
    "for i in list1:\n",
    "    print(i)\n",
    "print(i,'adalah nama-nama makanan')"
   ]
  },
  {
   "cell_type": "markdown",
   "metadata": {},
   "source": [
    "# Subtopik 1.2.4"
   ]
  },
  {
   "cell_type": "code",
   "execution_count": null,
   "metadata": {},
   "outputs": [],
   "source": [
    "list_a = ['a',1,2,3,'b']\n",
    "print('list_a[0]=',list_a[0])\n",
    "print('list_a.index(2)=',list_a.index(2))\n",
    "print('b' in list_a)\n",
    "for i in list_a:\n",
    "    print(i)\n",
    "print('list_a[1:3]=',list_a[1:3])\n",
    "list_a.append(19)\n",
    "list_a.extend([20,21,22])\n",
    "print(list_a)\n",
    "list_a.insert(1,0)\n",
    "print('list_a.insert(1,0)=',list_a)\n",
    "list_a[list_a.index('b')]=18\n",
    "print(\"list_a[list_a.index('b')]=18 menjadi\",list_a)\n",
    "list_a.remove('a')\n",
    "print(\"list_a.remove('a')=\",list_a)\n",
    "print('list_a.pop()=',list_a.pop())\n",
    "print('jadi isi list_a sekarang',list_a)\n",
    "list_a.clear()\n",
    "print('list_a.clear()=',list_a)"
   ]
  },
  {
   "cell_type": "markdown",
   "metadata": {},
   "source": [
    "# Subtopik 1.2.5"
   ]
  },
  {
   "cell_type": "code",
   "execution_count": null,
   "metadata": {},
   "outputs": [],
   "source": [
    "def tambah(a,b):\n",
    "    \"\"\"\n",
    "    fungsi ini merupakan penjumlahan\n",
    "    antara bilangan pertama dan kedua\n",
    "    \"\"\"\n",
    "    return(a+b)\n",
    "help(tambah)\n",
    "print('tambah(5,3)=',tambah(5,3))"
   ]
  },
  {
   "cell_type": "code",
   "execution_count": null,
   "metadata": {},
   "outputs": [],
   "source": [
    "t=5\n",
    "def volume(a,b):\n",
    "    \"\"\"\n",
    "    fungsi ini merupakan perhitungan volume jika\n",
    "    tinggi didapatkan dari variabel global\n",
    "    \"\"\"\n",
    "    hasil=t*a*b\n",
    "    return(hasil)\n",
    "t=8\n",
    "help(volume)\n",
    "print(\"volume=\",volume(3,4))"
   ]
  },
  {
   "cell_type": "markdown",
   "metadata": {},
   "source": [
    "# Subtopik 1.2.6"
   ]
  },
  {
   "cell_type": "code",
   "execution_count": null,
   "metadata": {},
   "outputs": [],
   "source": [
    "print(solve(3*x-2 == 5, x))\n",
    "print(solve(3*x-2 > 5, x))\n",
    "print(solve(2*x-5 <= 17,x))"
   ]
  },
  {
   "cell_type": "code",
   "execution_count": null,
   "metadata": {},
   "outputs": [],
   "source": [
    "show(solve(3*x-2 == 5, x))\n",
    "show(solve(3*x-2 > 5, x))\n",
    "show(solve(2*x-5 <= 17,x))"
   ]
  },
  {
   "cell_type": "code",
   "execution_count": null,
   "metadata": {},
   "outputs": [],
   "source": [
    "show(solve(x^2 + x == 6, x))\n",
    "show(solve(2*x^2 - x + 1 == 0, x))\n",
    "show(solve(exp(x) - x == 0,x))\n",
    "show(solve(cos(x) - exp(x) == 0,x))"
   ]
  },
  {
   "cell_type": "code",
   "execution_count": null,
   "metadata": {},
   "outputs": [],
   "source": [
    "x, y = var('x y')\n",
    "print(solve([ x-y >=2, x+y <=3], x,y))"
   ]
  },
  {
   "cell_type": "code",
   "execution_count": null,
   "metadata": {},
   "outputs": [],
   "source": [
    "x , y = var('x y')\n",
    "fplot = plot(x^2,(x,-2,1),color='red')\n",
    "gplot = plot(-y+1,(y,-2,1.5),color='blue')\n",
    "show(fplot+gplot)"
   ]
  },
  {
   "cell_type": "code",
   "execution_count": null,
   "metadata": {},
   "outputs": [],
   "source": [
    "L = [0.50,0.25,0.75,0.85,0.95,0.97,0.40,0.20,0.21,0.10]\n",
    "list_plot(L, color='red')"
   ]
  },
  {
   "cell_type": "code",
   "execution_count": null,
   "metadata": {},
   "outputs": [],
   "source": [
    "x , y = var('x y')\n",
    "f = x^2 + 3*y\n",
    "plot3d(f,(-5,5),(-5,5),adaptive = True)"
   ]
  }
 ],
 "metadata": {
  "kernelspec": {
   "display_name": "SageMath 9.0",
   "language": "sage",
   "name": "sagemath"
  },
  "language_info": {
   "codemirror_mode": {
    "name": "ipython",
    "version": 3
   },
   "file_extension": ".py",
   "mimetype": "text/x-python",
   "name": "python",
   "nbconvert_exporter": "python",
   "pygments_lexer": "ipython3",
   "version": "3.7.3"
  }
 },
 "nbformat": 4,
 "nbformat_minor": 2
}
