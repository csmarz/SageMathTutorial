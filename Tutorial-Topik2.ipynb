{
 "cells": [
  {
   "cell_type": "markdown",
   "metadata": {},
   "source": [
    "# Subtopik 2.1.1"
   ]
  },
  {
   "cell_type": "code",
   "execution_count": null,
   "metadata": {},
   "outputs": [],
   "source": [
    "a = 15//4\n",
    "print(a)\n",
    "b = 15%4\n",
    "print(b)\n",
    "c = -15//4\n",
    "print(c)\n",
    "d = -15 % 4\n",
    "print(d)"
   ]
  },
  {
   "cell_type": "code",
   "execution_count": null,
   "metadata": {},
   "outputs": [],
   "source": [
    "(a,b) = 15.quo_rem(4)\n",
    "print(a,b)\n",
    "(c,d) = (-15).quo_rem(4)\n",
    "print(c,d)"
   ]
  },
  {
   "cell_type": "code",
   "execution_count": null,
   "metadata": {},
   "outputs": [],
   "source": [
    "a = divmod(15,4); print(a)\n",
    "b = divmod(-15,4); print(b)"
   ]
  },
  {
   "cell_type": "code",
   "execution_count": null,
   "metadata": {},
   "outputs": [],
   "source": [
    "(-23).divides(92)"
   ]
  },
  {
   "cell_type": "markdown",
   "metadata": {},
   "source": [
    "# Subtopik 2.1.2"
   ]
  },
  {
   "cell_type": "code",
   "execution_count": null,
   "metadata": {},
   "outputs": [],
   "source": [
    "a = gcd(1030,1070); print(a)\n",
    "b = gcd(1024,4444); print(b)\n",
    "c = gcd(1234,1324); print(c)"
   ]
  },
  {
   "cell_type": "code",
   "execution_count": null,
   "metadata": {},
   "outputs": [],
   "source": [
    "x = lcm(1030,1070); print(x)\n",
    "y = lcm(1024,4444); print(y)\n",
    "z = lcm(1234,1324); print(z)\n",
    "u = lcm(3,-4); print(u)\n",
    "v = lcm(-3,-4); print(v)\n",
    "w = lcm(0,0); print(w)"
   ]
  },
  {
   "cell_type": "code",
   "execution_count": null,
   "metadata": {},
   "outputs": [],
   "source": [
    "a = xgcd(6,14); print(a)\n",
    "b = xgcd(633,331); print(b)\n",
    "c = xgcd(97,13); print(c)\n",
    "d = xgcd(0,0); print(d)"
   ]
  },
  {
   "cell_type": "code",
   "execution_count": null,
   "metadata": {},
   "outputs": [],
   "source": [
    "bezout = xgcd(18,27); print(bezout)\n",
    "gcd = bezout[0]; print(gcd)\n",
    "s = bezout[1]; print(s)\n",
    "t = bezout[2]; print(t)"
   ]
  },
  {
   "cell_type": "markdown",
   "metadata": {},
   "source": [
    "# Subtopik 2.1.3"
   ]
  },
  {
   "cell_type": "code",
   "execution_count": null,
   "metadata": {},
   "outputs": [],
   "source": [
    "a = 3.is_prime(); print(a)\n",
    "b = 17.is_prime(); print(b)\n",
    "c = 2003.is_prime(); print(c)\n",
    "d = 2011.is_prime(); print(d)\n",
    "e = 2019.is_prime(); print(e)\n",
    "f = 2021.is_prime(); print(f)\n",
    "g = (-3).is_prime(); print(g)\n",
    "h = (-17).is_prime(); print(h)"
   ]
  },
  {
   "cell_type": "code",
   "execution_count": null,
   "metadata": {},
   "outputs": [],
   "source": [
    "a = random_prime(10^15,proof=False); print(a); print(a.is_prime())\n",
    "b = random_prime(10^15,proof=False); print(b); print(b.is_prime())\n",
    "c = random_prime(10^15,proof=False); print(c); print(c.is_prime())\n",
    "d = random_prime(10^15,proof=False); print(d); print(d.is_prime())\n",
    "e = random_prime(10^15,proof=False); print(e); print(e.is_prime())\n",
    "f = random_prime(10^15,proof=False); print(f); print(f.is_prime()) \n",
    "g = random_prime(10^15,proof=False); print(g); print(g.is_prime())\n",
    "h = random_prime(10^15,proof=False); print(h); print(h.is_prime())\n",
    "i = random_prime(10^15,proof=False); print(i); print(i.is_prime())\n",
    "j = random_prime(10^15,proof=False); print(j); print(j.is_prime())"
   ]
  },
  {
   "cell_type": "code",
   "execution_count": null,
   "metadata": {},
   "outputs": [],
   "source": [
    "def prime_list(a,b):\n",
    "    L = []\n",
    "    for i in range(a,b+1):\n",
    "        if Integer(i).is_prime() == True: L.append(Integer(i))\n",
    "    return L"
   ]
  },
  {
   "cell_type": "code",
   "execution_count": null,
   "metadata": {},
   "outputs": [],
   "source": [
    "L1 = prime_range(420000000,420000100); print(L1)\n",
    "# tidak bisa dipakai bila nilai batasnya lebih dari 436273290\n",
    "L2 = prime_list(420000000,420000100); print(L2)\n",
    "# bisa dipakai untuk batas bilangan bulat pada SageMath"
   ]
  },
  {
   "cell_type": "code",
   "execution_count": null,
   "metadata": {},
   "outputs": [],
   "source": [
    "L1 = prime_range(440000000,440000100); print(L1)\n",
    "# tidak bisa dipakai bila nilai batasnya lebih dari 436273290"
   ]
  },
  {
   "cell_type": "code",
   "execution_count": null,
   "metadata": {},
   "outputs": [],
   "source": [
    "L2 = prime_list(440000000,440000100); print(L2)\n",
    "# bisa dipakai untuk batas bilangan bulat pada SageMath"
   ]
  },
  {
   "cell_type": "code",
   "execution_count": null,
   "metadata": {},
   "outputs": [],
   "source": [
    "a = next_prime(1000); print(a)\n",
    "b = previous_prime(1000); print(b)"
   ]
  },
  {
   "cell_type": "code",
   "execution_count": null,
   "metadata": {},
   "outputs": [],
   "source": [
    "print(2021.factor())\n",
    "print(3000.factor())\n",
    "print(3011.factor())"
   ]
  },
  {
   "cell_type": "code",
   "execution_count": null,
   "metadata": {},
   "outputs": [],
   "source": [
    "factors = 3000.factor()\n",
    "print(factors)\n",
    "print(list(factors))\n",
    "suku_satu = factors[0]; print(suku_satu)\n",
    "suku_dua = factors[1]; print(suku_dua)\n",
    "suku_tiga = factors[2]; print(suku_tiga)\n",
    "prima_satu = factors[0][0]; print(prima_satu)\n",
    "pangkat_satu = factors[0][1]; print(pangkat_satu)"
   ]
  },
  {
   "cell_type": "markdown",
   "metadata": {},
   "source": [
    "# Subtopik 2.2.1"
   ]
  },
  {
   "cell_type": "code",
   "execution_count": null,
   "metadata": {},
   "outputs": [],
   "source": [
    "Z5 = Integers(5); print(Z5)\n",
    "Z5.addition_table(names='elements')"
   ]
  },
  {
   "cell_type": "code",
   "execution_count": null,
   "metadata": {},
   "outputs": [],
   "source": [
    "Z5 = Integers(5); print(Z5)\n",
    "Z5.multiplication_table(names='elements')"
   ]
  },
  {
   "cell_type": "markdown",
   "metadata": {},
   "source": [
    "# Subtopik 2.2.2"
   ]
  },
  {
   "cell_type": "code",
   "execution_count": null,
   "metadata": {},
   "outputs": [],
   "source": [
    "S3 = SymmetricGroup(3)\n",
    "print(S3)\n",
    "for x in S3:\n",
    "    print(x)"
   ]
  },
  {
   "cell_type": "code",
   "execution_count": null,
   "metadata": {},
   "outputs": [],
   "source": [
    "alpha1 = S3(\"(1,2,3)\"); print(alpha1)\n",
    "alpha2 = S3([(1,2,3)]); print(alpha2)\n",
    "alpha3 = S3([2,3,1]); print(alpha3)"
   ]
  },
  {
   "cell_type": "code",
   "execution_count": null,
   "metadata": {},
   "outputs": [],
   "source": [
    "S4 = SymmetricGroup(4)\n",
    "print(S4)\n",
    "alpha = S4([(1,2,4,3)]); print(alpha)\n",
    "beta = S4([(1,3),(2,4)]); print(beta)\n",
    "alphabeta = alpha * beta; print(alphabeta)\n",
    "betaalpha = beta * alpha; print(betaalpha)"
   ]
  },
  {
   "cell_type": "code",
   "execution_count": null,
   "metadata": {},
   "outputs": [],
   "source": [
    "alpha3 = alpha^3; print(alpha3)\n",
    "alpha4 = alpha^4; print(alpha4)\n",
    "alphainv = alpha^-1; print(alphainv)"
   ]
  },
  {
   "cell_type": "code",
   "execution_count": null,
   "metadata": {},
   "outputs": [],
   "source": [
    "S3 = SymmetricGroup(3)\n",
    "print(S3)\n",
    "S3.cayley_table(names='elements')"
   ]
  },
  {
   "cell_type": "markdown",
   "metadata": {},
   "source": [
    "# Subtopik 2.2.3"
   ]
  },
  {
   "cell_type": "code",
   "execution_count": null,
   "metadata": {},
   "outputs": [],
   "source": [
    "G.<g> = AbelianGroup([5])\n",
    "print(G)\n",
    "print(G.list())"
   ]
  },
  {
   "cell_type": "markdown",
   "metadata": {},
   "source": [
    "# Subtopik 2.3.2"
   ]
  },
  {
   "cell_type": "code",
   "execution_count": null,
   "metadata": {},
   "outputs": [],
   "source": [
    "Ring1 = IntegerRing()\n",
    "print(Ring1)\n",
    "print(type(Ring1))\n",
    "Ring2 = Integers()\n",
    "print(Ring2)\n",
    "print(type(Ring2))\n",
    "Ring3 = ZZ\n",
    "print(Ring3)\n",
    "print(type(Ring3))"
   ]
  },
  {
   "cell_type": "code",
   "execution_count": null,
   "metadata": {},
   "outputs": [],
   "source": [
    "a = 10\n",
    "print(type(a))\n",
    "b = 10.0\n",
    "print(type(b))\n",
    "c = 20/2\n",
    "print(type(c))"
   ]
  },
  {
   "cell_type": "code",
   "execution_count": null,
   "metadata": {},
   "outputs": [],
   "source": [
    "print(a == b)\n",
    "print(b == c)\n",
    "print(a == c)\n",
    "print(type(a) == type(b))\n",
    "print(type(b) == type(c))\n",
    "print(type(a) == type(c))"
   ]
  },
  {
   "cell_type": "code",
   "execution_count": null,
   "metadata": {},
   "outputs": [],
   "source": [
    "a = Integer('10'); print(type(a))\n",
    "b = Integer(10.0); print(type(b))\n",
    "c = Integer(20/2); print(type(c))\n",
    "d = Integer('0x10'); print(type(d))\n",
    "e = Integer('0o10'); print(type(e))\n",
    "print(a);\n",
    "print(b);\n",
    "print(c);\n",
    "print(d);\n",
    "print(e);"
   ]
  },
  {
   "cell_type": "code",
   "execution_count": null,
   "metadata": {},
   "outputs": [],
   "source": [
    "a = 14.digits(base=2); print(a)\n",
    "b = 14.digits(base=3); print(b)\n",
    "c = 14.digits(base=4); print(c)"
   ]
  },
  {
   "cell_type": "code",
   "execution_count": null,
   "metadata": {},
   "outputs": [],
   "source": [
    "desimal_a = Integer([0, 1, 1, 1],base=2); print(desimal_a)\n",
    "desimal_b = Integer([2,1,1],base=3); print(desimal_b)\n",
    "desimal_c = Integer([2,3],base=4); print(desimal_c)"
   ]
  },
  {
   "cell_type": "code",
   "execution_count": null,
   "metadata": {},
   "outputs": [],
   "source": [
    "Z0 = Integers(0); print(Z0)\n",
    "Z1 = Integers(1); print(Z1)\n",
    "Z2 = Integers(2); print(Z2)\n",
    "Z3 = Integers(3); print(Z3)\n",
    "Z4 = Integers(4); print(Z4)"
   ]
  },
  {
   "cell_type": "code",
   "execution_count": null,
   "metadata": {},
   "outputs": [],
   "source": [
    "Z10 = Integers(10); print(Z10)\n",
    "a = Z10(14); print(a)\n",
    "b = Z10(17); print(b)\n",
    "c = a + b; print(c)\n",
    "d = a - b; print(d)\n",
    "e = a * d; print(e)\n",
    "f = a^4; print(f)"
   ]
  },
  {
   "cell_type": "code",
   "execution_count": null,
   "metadata": {},
   "outputs": [],
   "source": [
    "Z10 = Integers(10); print(Z10)\n",
    "a = Z10(27); print(a)\n",
    "ainv = a^-1; print(ainv)"
   ]
  },
  {
   "cell_type": "code",
   "execution_count": null,
   "metadata": {},
   "outputs": [],
   "source": [
    "a = solve_mod(8*x == 12, 21); print(a)\n",
    "b = solve_mod(9*x == 12, 21); print(b)\n",
    "c = solve_mod(9*x == 13, 21); print(c)"
   ]
  },
  {
   "cell_type": "code",
   "execution_count": null,
   "metadata": {},
   "outputs": [],
   "source": [
    "x, y = var('x, y')\n",
    "a = solve_mod(3*x + 5*y == 4, 7); print(a)"
   ]
  },
  {
   "cell_type": "code",
   "execution_count": null,
   "metadata": {},
   "outputs": [],
   "source": [
    "x, y = var('x, y')\n",
    "solve_mod( [9*x + 2*y == 2, 3*x + 2*y == 11], 21)"
   ]
  },
  {
   "cell_type": "code",
   "execution_count": null,
   "metadata": {},
   "outputs": [],
   "source": [
    "x, y = var('x,y')\n",
    "a = solve_mod([2*x^2+3*y^2 == 5],7); print(a)"
   ]
  },
  {
   "cell_type": "code",
   "execution_count": null,
   "metadata": {},
   "outputs": [],
   "source": [
    "crt([3,4,1,5],[4,5,9,7])"
   ]
  },
  {
   "cell_type": "markdown",
   "metadata": {},
   "source": [
    "# Subtopik 2.3.3"
   ]
  },
  {
   "cell_type": "code",
   "execution_count": null,
   "metadata": {},
   "outputs": [],
   "source": [
    "F1 = Integers(7); print(F1)\n",
    "F2 = GF(7); print(F2)\n",
    "print(F1.is_field())\n",
    "print(F2.is_field())\n",
    "print(F1 == F2)"
   ]
  },
  {
   "cell_type": "code",
   "execution_count": null,
   "metadata": {},
   "outputs": [],
   "source": [
    "A = [x for x in F1]; print(A)\n",
    "B = [x for x in F2]; print(B)\n",
    "print(A == B) "
   ]
  },
  {
   "cell_type": "markdown",
   "metadata": {},
   "source": [
    "# Subtopik 2.4"
   ]
  },
  {
   "cell_type": "code",
   "execution_count": null,
   "metadata": {},
   "outputs": [],
   "source": [
    "Z.<x> = PolynomialRing(Integers()); print(Z)\n",
    "f1 = (1+3*x)^2; print(f1)\n",
    "f2 = (3+x)^3; print(f2)\n",
    "print(f1+f2)\n",
    "print(f1-f2)\n",
    "print(f1*f2)"
   ]
  },
  {
   "cell_type": "code",
   "execution_count": null,
   "metadata": {},
   "outputs": [],
   "source": [
    "R.<x> = PolynomialRing(GF(7)); print(R)\n",
    "g1 = x^2 + 3; print(g1)\n",
    "g2 = x^3 + x + 4; print(g2)\n",
    "print(g1+g2)\n",
    "print(g1-g2)\n",
    "print(g1*g2)\n",
    "print(g1^4)"
   ]
  },
  {
   "cell_type": "code",
   "execution_count": null,
   "metadata": {},
   "outputs": [],
   "source": [
    "R.<x> = PolynomialRing(GF(7)); print(R)\n",
    "f= x^2-4*x-3; print(f)"
   ]
  },
  {
   "cell_type": "markdown",
   "metadata": {},
   "source": [
    "# Subtopik 2.4.1"
   ]
  },
  {
   "cell_type": "code",
   "execution_count": null,
   "metadata": {},
   "outputs": [],
   "source": [
    "R.<x> = PolynomialRing(GF(7)); print(R)\n",
    "f = x^4 + 6*x^3; print(f)\n",
    "g = x^2 + 5*x + 1; print(g)\n",
    "print(f/g)\n",
    "print(f//g)\n",
    "print(f % g)"
   ]
  },
  {
   "cell_type": "code",
   "execution_count": null,
   "metadata": {},
   "outputs": [],
   "source": [
    "print(parent(f/g))\n",
    "print(parent(f//g))\n",
    "print(parent(f%g))"
   ]
  },
  {
   "cell_type": "code",
   "execution_count": null,
   "metadata": {},
   "outputs": [],
   "source": [
    "F.<x> = PolynomialRing(GF(7)); print(F)\n",
    "f = x^3 + 2*x^2 + 2*x + 2; print(f)\n",
    "g = x^2 + 3*x + 5; print(g)\n",
    "print(f.divides(g))\n",
    "print(g.divides(f))\n",
    "print(g/f)\n",
    "print(g//f)\n",
    "print(g%f)\n",
    "print(f/g)\n",
    "print(f//g)\n",
    "print(f%g)"
   ]
  },
  {
   "cell_type": "markdown",
   "metadata": {},
   "source": [
    "# Subtopik 2.4.2"
   ]
  },
  {
   "cell_type": "code",
   "execution_count": null,
   "metadata": {},
   "outputs": [],
   "source": [
    "F.<x> = PolynomialRing(GF(7)); print(F)\n",
    "f = 5*x^3 + x^2 + x + 3; print(f)\n",
    "g = x^4 + 3*x^3 + 4*x + 5; print(g)\n",
    "d = gcd(f,g); print(d)\n",
    "c = lcm(f,g); print(c)"
   ]
  },
  {
   "cell_type": "code",
   "execution_count": null,
   "metadata": {},
   "outputs": [],
   "source": [
    "F.<x> = PolynomialRing(GF(7)); print(F)\n",
    "f = 5*x^3 + x^2 + x + 3; print(f)\n",
    "g = x^4 + 3*x^3 + 4*x + 5; print(g)\n",
    "ans = xgcd(f,g); print(ans)"
   ]
  },
  {
   "cell_type": "markdown",
   "metadata": {},
   "source": [
    "# Subtopik 2.4.3"
   ]
  },
  {
   "cell_type": "code",
   "execution_count": null,
   "metadata": {},
   "outputs": [],
   "source": [
    "Z.<x> = PolynomialRing(Integers()); print(Z)\n",
    "f = x^2-x-6; print(f)\n",
    "g = 2*x^2+5*x-3; print(g)\n",
    "h = x^5+5*x^4-5*x^3-45*x^2+108; print(h)\n",
    "print(f.roots())\n",
    "print(g.roots())\n",
    "print(h.roots())"
   ]
  },
  {
   "cell_type": "code",
   "execution_count": null,
   "metadata": {},
   "outputs": [],
   "source": [
    "F5.<x> = PolynomialRing(GF(5)); print(F5)\n",
    "f = x^2+1; print(f)\n",
    "g = x^3+3*x^2+3*x+1; print(g)\n",
    "h = x^4+1; print(h)\n",
    "print(f.roots())\n",
    "print(g.roots())\n",
    "print(h.roots())"
   ]
  },
  {
   "cell_type": "code",
   "execution_count": null,
   "metadata": {},
   "outputs": [],
   "source": [
    "F5.<x> = PolynomialRing(GF(5)); print(F5)\n",
    "f = x^2+1; print(f)\n",
    "g = x^2+3; print(g)\n",
    "h = x^4+1; print(h)\n",
    "print(f.is_irreducible())\n",
    "print(g.is_irreducible())\n",
    "print(h.is_irreducible())"
   ]
  },
  {
   "cell_type": "code",
   "execution_count": null,
   "metadata": {},
   "outputs": [],
   "source": [
    "F5.<x> = PolynomialRing(GF(5)); print(F5)\n",
    "f = x^2+1; print(f)\n",
    "g = x^2+3; print(g)\n",
    "h = x^4+1; print(h)\n",
    "print(factor(f))\n",
    "print(f.factor())\n",
    "print(factor(g))\n",
    "print(g.factor())\n",
    "print(factor(h))\n",
    "print(h.factor())"
   ]
  },
  {
   "cell_type": "markdown",
   "metadata": {},
   "source": [
    "# Subtopik 2.5"
   ]
  },
  {
   "cell_type": "code",
   "execution_count": null,
   "metadata": {},
   "outputs": [],
   "source": [
    "F = GF(4); print(F)\n",
    "G = GF(4,x); print(G)\n",
    "print( F == G)"
   ]
  },
  {
   "cell_type": "code",
   "execution_count": null,
   "metadata": {},
   "outputs": [],
   "source": [
    "F4 = GF(4,x); print(F4)\n",
    "print(F4.addition_table(names='elements'))\n",
    "print(F4.multiplication_table(names='elements'))"
   ]
  },
  {
   "cell_type": "markdown",
   "metadata": {},
   "source": [
    "# Subtopik 2.6.1"
   ]
  },
  {
   "cell_type": "code",
   "execution_count": null,
   "metadata": {},
   "outputs": [],
   "source": [
    "v = vector([0,-1,0,-2])\n",
    "w = vector([-1.0,-2.0,3,4])\n",
    "print(v)\n",
    "print(w)\n",
    "print(parent(v))\n",
    "print(parent(w))\n",
    "print(type(v))\n",
    "print(type(w))"
   ]
  },
  {
   "cell_type": "code",
   "execution_count": null,
   "metadata": {},
   "outputs": [],
   "source": [
    "v = vector([1,2,-3,4])\n",
    "print(v[0])\n",
    "print(v[1])\n",
    "print(v[2])\n",
    "print(v[3])\n",
    "print(len(v))"
   ]
  },
  {
   "cell_type": "code",
   "execution_count": null,
   "metadata": {},
   "outputs": [],
   "source": [
    "u = vector(GF(5),[1,4,1,4])\n",
    "v = vector(GF(5),[2,3,3,2])\n",
    "print(u)\n",
    "print(parent(u))\n",
    "print(v)\n",
    "print(parent(v))\n",
    "print(3*u - 4*v)\n",
    "print(parent(3*u-4*v))"
   ]
  },
  {
   "cell_type": "code",
   "execution_count": null,
   "metadata": {},
   "outputs": [],
   "source": [
    "u = vector(Integers(4),[0,2,1,3])\n",
    "print(u)\n",
    "v = vector(Integers(4),[1,1,3,3])\n",
    "print(v)\n",
    "print(u.dot_product(v))"
   ]
  },
  {
   "cell_type": "code",
   "execution_count": null,
   "metadata": {},
   "outputs": [],
   "source": [
    "U = Integers(4)^4; print(U)\n",
    "F4.<x> = GF(4) \n",
    "V = F4^4; print(V)\n",
    "u = vector([1,2,3,4]); print(u)\n",
    "print(u in U)\n",
    "v = vector([x,x+1,1,1]); print(v)\n",
    "print(v in V)"
   ]
  },
  {
   "cell_type": "markdown",
   "metadata": {},
   "source": [
    "# Subtopik 2.6.2"
   ]
  },
  {
   "cell_type": "code",
   "execution_count": null,
   "metadata": {},
   "outputs": [],
   "source": [
    "A = matrix([[1,2,0],[0,-4,-5]]); print(A)\n",
    "B = matrix([[-1,2.3,0.5],[0,-4/5,-5]]); print(B)"
   ]
  },
  {
   "cell_type": "code",
   "execution_count": null,
   "metadata": {},
   "outputs": [],
   "source": [
    "A = matrix([[1,2,0],[0,-4,-5]]);\n",
    "print(A[0][0]);\n",
    "print(A[0][1]);\n",
    "print(A[0][2]);\n",
    "print(A[1][0]);\n",
    "print(A[1][1]);\n",
    "print(A[1][2]);"
   ]
  },
  {
   "cell_type": "code",
   "execution_count": null,
   "metadata": {},
   "outputs": [],
   "source": [
    "A = matrix(GF(5),[[1,2,3],[0,-2,-3],[0,0,-4]]); print(A)\n",
    "B = matrix(GF(5),[[1,-1,1],[1,-2,0],[-2,0,0]]); print(B)"
   ]
  },
  {
   "cell_type": "code",
   "execution_count": null,
   "metadata": {},
   "outputs": [],
   "source": [
    "A = matrix(GF(5),[[1,2,3],[0,-2,-3],[0,0,-4]]); show(A)\n",
    "B = matrix(GF(5),[[1,-1,1],[1,-2,0],[-2,0,0]]); show(B)"
   ]
  },
  {
   "cell_type": "code",
   "execution_count": null,
   "metadata": {},
   "outputs": [],
   "source": [
    "A = matrix(GF(5),[[1,2,3],[0,-2,-3],[0,0,-4]]);\n",
    "B = matrix(GF(5),[[1,-1,1],[1,-2,0],[-2,0,0]]);\n",
    "C = 2*A - 3*B; print(C)\n",
    "D = A*B - B*A; print(D)\n",
    "E = A.transpose(); print(E)\n",
    "d = B.determinant(); print(d)\n",
    "F = B^-1; print(F)\n",
    "t = F.trace(); print(t)"
   ]
  },
  {
   "cell_type": "code",
   "execution_count": null,
   "metadata": {},
   "outputs": [],
   "source": [
    "MS = MatrixSpace(Integers(4),2,3); print(MS)\n",
    "print(MS.dimension())\n",
    "print(MS.dims())"
   ]
  },
  {
   "cell_type": "code",
   "execution_count": null,
   "metadata": {},
   "outputs": [],
   "source": [
    "MS = MatrixSpace(Integers(4),2,3)\n",
    "A = MS([[-1,2,-3],[3,-2,1]]); print(A)"
   ]
  },
  {
   "cell_type": "markdown",
   "metadata": {},
   "source": [
    "# Subtopik 2.7"
   ]
  },
  {
   "cell_type": "code",
   "execution_count": null,
   "metadata": {},
   "outputs": [],
   "source": [
    "E = EllipticCurve(GF(13),[3,8]); print(E)\n",
    "for x in E:\n",
    "    print(x)"
   ]
  },
  {
   "cell_type": "code",
   "execution_count": null,
   "metadata": {},
   "outputs": [],
   "source": [
    "P1 = E(1,5) + E(1,8); print(P1)\n",
    "P2 = -E(1,5); print(P2)\n",
    "P3 = E(1,8) + E(2,3); print(P3)\n",
    "P4 = 2*E(1,5); print(P4)\n",
    "P5 = 3*E(1,8); print(P5)\n",
    "P6 = 2*E(1,8) - 3*E(12,11); print(P6)"
   ]
  }
 ],
 "metadata": {
  "kernelspec": {
   "display_name": "SageMath 9.0",
   "language": "sage",
   "name": "sagemath"
  },
  "language_info": {
   "codemirror_mode": {
    "name": "ipython",
    "version": 3
   },
   "file_extension": ".py",
   "mimetype": "text/x-python",
   "name": "python",
   "nbconvert_exporter": "python",
   "pygments_lexer": "ipython3",
   "version": "3.7.3"
  }
 },
 "nbformat": 4,
 "nbformat_minor": 2
}
