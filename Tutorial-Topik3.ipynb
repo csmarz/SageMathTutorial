{
 "cells": [
  {
   "cell_type": "markdown",
   "metadata": {},
   "source": [
    "# Subtopik 3.1.1"
   ]
  },
  {
   "cell_type": "code",
   "execution_count": null,
   "metadata": {},
   "outputs": [],
   "source": [
    "a = AlphabeticStrings()\n",
    "print(a.gen(0))\n",
    "print(a.gen(25))\n",
    "print(a([i for i in range(25)]))"
   ]
  },
  {
   "cell_type": "code",
   "execution_count": null,
   "metadata": {},
   "outputs": [],
   "source": [
    "print(a.gen(-1)) # perintah ini menghasilkan error"
   ]
  },
  {
   "cell_type": "code",
   "execution_count": null,
   "metadata": {},
   "outputs": [],
   "source": [
    "a = AlphabeticStrings().encoding('saya bisa')\n",
    "print(sorted(a.character_count().items()))\n",
    "print(sorted(a.frequency_distribution().function().items()))"
   ]
  },
  {
   "cell_type": "markdown",
   "metadata": {},
   "source": [
    "# Subtopik 3.1.2"
   ]
  },
  {
   "cell_type": "code",
   "execution_count": null,
   "metadata": {},
   "outputs": [],
   "source": [
    "h = HexadecimalStrings()\n",
    "print(h([ i for i in range(16)]))\n",
    "h = HexadecimalStrings().encoding('saya bisa')\n",
    "print(h)\n",
    "print(sorted(h.character_count().items()))\n",
    "print(sorted(h.frequency_distribution().function().items()))"
   ]
  },
  {
   "cell_type": "markdown",
   "metadata": {},
   "source": [
    "# Subtopik 3.1.3"
   ]
  },
  {
   "cell_type": "code",
   "execution_count": null,
   "metadata": {},
   "outputs": [],
   "source": [
    "b = BinaryStrings()\n",
    "print(b([ i for i in range(2)]))\n",
    "b = BinaryStrings().encoding('saya bisa')\n",
    "print(b)\n",
    "print(sorted(b.character_count().items()))\n",
    "print(sorted(b.frequency_distribution().function().items()))"
   ]
  },
  {
   "cell_type": "markdown",
   "metadata": {},
   "source": [
    "# Subtopik 3.1.4"
   ]
  },
  {
   "cell_type": "code",
   "execution_count": null,
   "metadata": {},
   "outputs": [],
   "source": [
    "o = OctalStrings()\n",
    "print(o([ i for i in range(8)]))\n",
    "ochar = o([0,1,7])\n",
    "print(ochar.character_count().items())\n",
    "print(ochar.frequency_distribution().function().items())"
   ]
  },
  {
   "cell_type": "markdown",
   "metadata": {},
   "source": [
    "# Subtopik 3.1.5"
   ]
  },
  {
   "cell_type": "code",
   "execution_count": null,
   "metadata": {},
   "outputs": [],
   "source": [
    "Rad64 = Radix64Strings()\n",
    "Rad64([ i for i in range(64)])\n",
    "rchar = Rad64([0,2,33,40])\n",
    "print(rchar)\n",
    "print(rchar.character_count().items())\n",
    "print(rchar.frequency_distribution().function().items())"
   ]
  },
  {
   "cell_type": "markdown",
   "metadata": {},
   "source": [
    "# Subtopik 3.1.6"
   ]
  },
  {
   "cell_type": "code",
   "execution_count": null,
   "metadata": {},
   "outputs": [],
   "source": [
    "mystring = 'Ayo Belajar!'\n",
    "print(mystring); print(len(mystring))\n",
    "mylist = [ord(x) for x in mystring]\n",
    "print(mylist); print(len(mylist))"
   ]
  },
  {
   "cell_type": "code",
   "execution_count": null,
   "metadata": {},
   "outputs": [],
   "source": [
    "mylist = [65, 121, 111, 32, 66, 101, 108, 97, 106, 97, 114, 33]\n",
    "print(mylist)\n",
    "mystring0 = [chr(x) for x in mylist]\n",
    "print(mystring0)\n",
    "mystring1 = ''.join(mystring0)\n",
    "print(mystring1) "
   ]
  },
  {
   "cell_type": "markdown",
   "metadata": {},
   "source": [
    "# Subtopik 3.2.1"
   ]
  },
  {
   "cell_type": "code",
   "execution_count": null,
   "metadata": {},
   "outputs": [],
   "source": [
    "A = AffineCryptosystem(AlphabeticStrings())\n",
    "P = A.encoding(\"ini pesan rahasia\")\n",
    "print(P)\n",
    "(a,b) = (3,7)\n",
    "C = A.enciphering(a,b,P)\n",
    "print(C)"
   ]
  },
  {
   "cell_type": "code",
   "execution_count": null,
   "metadata": {},
   "outputs": [],
   "source": [
    "(a,b) = (3,7)\n",
    "#cara 1\n",
    "P1 = A.deciphering(a,b,C)\n",
    "print(P1)\n",
    "print(P1==P)\n",
    "\n",
    "#cara 2\n",
    "(ainv, binv) = A.inverse_key(a,b)\n",
    "P2 = A.enciphering(ainv,binv,C)\n",
    "print(P2)\n",
    "print(P2==P)"
   ]
  },
  {
   "cell_type": "code",
   "execution_count": null,
   "metadata": {},
   "outputs": [],
   "source": [
    "A = AffineCryptosystem(AlphabeticStrings())\n",
    "a,b = A.random_key()\n",
    "print(a,b)\n",
    "P =A.encoding(\"Pesan Baru\")\n",
    "print(P)\n",
    "C = A.enciphering(a,b,P)\n",
    "print(C)\n",
    "print(A.deciphering(a,b,C) == P)"
   ]
  },
  {
   "cell_type": "code",
   "execution_count": null,
   "metadata": {},
   "outputs": [],
   "source": [
    "A = AffineCryptosystem(AlphabeticStrings())\n",
    "a,b = (3,19)\n",
    "P = A.encoding(\"Pesan Asli\")\n",
    "print(P)\n",
    "C = A.enciphering(a,b,P)\n",
    "print(C)\n",
    "BF = A.brute_force(C)\n",
    "print('Hasil kriptanalisis brute-force:')\n",
    "print(sorted(BF.items())[:10])\n",
    "print('Hasil kriptanalisis chi-square:')\n",
    "CS = A.brute_force(C, ranking=\"chisquare\")\n",
    "print(CS[:10])\n",
    "print('Hasil kriptanalisis squared-difference:')\n",
    "SD = A.brute_force(C, ranking=\"squared_differences\")\n",
    "print(SD[:10])"
   ]
  },
  {
   "cell_type": "markdown",
   "metadata": {},
   "source": [
    "# Subtopik 3.2.2"
   ]
  },
  {
   "cell_type": "code",
   "execution_count": null,
   "metadata": {},
   "outputs": [],
   "source": [
    "Caesar = AffineCryptosystem(AlphabeticStrings())\n",
    "P = Caesar.encoding(\"ini pesan rahasia\")\n",
    "print(P)\n",
    "(a,b) = (1,7)\n",
    "C = Caesar.enciphering(a,b,P)\n",
    "print(C)\n",
    "print(Caesar.deciphering(a,b,C)==P)"
   ]
  },
  {
   "cell_type": "code",
   "execution_count": null,
   "metadata": {},
   "outputs": [],
   "source": [
    "Caesar2 = ShiftCryptosystem(AlphabeticStrings())\n",
    "P2 = Caesar2.encoding(\"ini pesan rahasia\")\n",
    "print(P2)\n",
    "b2 = 7\n",
    "C2 = Caesar2.enciphering(b2,P2)\n",
    "print(C2)\n",
    "print(Caesar2.deciphering(b2,C2)==P2)"
   ]
  },
  {
   "cell_type": "markdown",
   "metadata": {},
   "source": [
    "# Subtopik 3.2.3"
   ]
  },
  {
   "cell_type": "code",
   "execution_count": null,
   "metadata": {},
   "outputs": [],
   "source": [
    "Decimation = AffineCryptosystem(AlphabeticStrings())\n",
    "P = Decimation.encoding(\"ini pesan rahasia\")\n",
    "print(P)\n",
    "(a,b) = (3,0)\n",
    "C = Decimation.enciphering(a,b,P)\n",
    "print(C)\n",
    "print(Decimation.deciphering(a,b,C)==P)"
   ]
  },
  {
   "cell_type": "markdown",
   "metadata": {},
   "source": [
    "# Subtopik 3.2.4"
   ]
  },
  {
   "cell_type": "code",
   "execution_count": null,
   "metadata": {},
   "outputs": [],
   "source": [
    "dom = AlphabeticStrings()\n",
    "n = 2\n",
    "HC = HillCryptosystem(dom,n)\n",
    "print(HC)\n",
    "print(HC.block_length())\n",
    "R = Integers(26)\n",
    "MS = MatrixSpace(R,n,n)\n",
    "K = MS([[1,2],[1,1]]); print(K)\n",
    "P = dom.encoding('OK'); print(P)\n",
    "Enk = HC(K)\n",
    "Dek = HC(K^-1)\n",
    "print('Enkripsi cara pertama:')\n",
    "C1 = Enk(P); print(C1)\n",
    "print('Enkripsi cara kedua:')\n",
    "C2 = HC.enciphering(K,P); print(C2)\n",
    "print('Dekripsi cara pertama:')\n",
    "D1 = Dek(C1); print(D1)\n",
    "print('Dekripsi cara kedua:')\n",
    "D2 = HC.deciphering(K,C2); print(D2)"
   ]
  },
  {
   "cell_type": "code",
   "execution_count": null,
   "metadata": {},
   "outputs": [],
   "source": [
    "dom = AlphabeticStrings()\n",
    "n = 3\n",
    "HC = HillCryptosystem(dom,n)\n",
    "print(HC)\n",
    "print(HC.block_length())\n",
    "\n",
    "R = Integers(26)\n",
    "M = MatrixSpace(R,n,n)\n",
    "K = M([[1,0,2],[0,1,1],[2,2,3]])\n",
    "print(K)\n",
    "\n",
    "P = dom.encoding('OKELAH'); print(P)\n",
    "\n",
    "print('Enkripsi cara pertama:')\n",
    "Enk = HC(K);\n",
    "C1 = Enk(P)\n",
    "print(C1)\n",
    "print('Enkripsi cara kedua:')\n",
    "C2 = HC.enciphering(K,P)\n",
    "print(C2)"
   ]
  },
  {
   "cell_type": "code",
   "execution_count": null,
   "metadata": {},
   "outputs": [],
   "source": [
    "Kinv = HC.inverse_key(K)\n",
    "Dek = HC(Kinv)\n",
    "print('Dekripsi cara pertama:')\n",
    "P1 = Dek(C1)\n",
    "print(P1)\n",
    "print('Dekripsi cara kedua')\n",
    "P2 = HC.deciphering(K,C1)\n",
    "print(P2)"
   ]
  },
  {
   "cell_type": "code",
   "execution_count": null,
   "metadata": {},
   "outputs": [],
   "source": [
    "dom = AlphabeticStrings()\n",
    "n = 6\n",
    "HC = HillCryptosystem(dom,n)\n",
    "key = HC.random_key()\n",
    "print(HC.block_length())\n",
    "print(key)\n",
    "Enk = HC(key)\n",
    "P = dom.encoding('PESANRAHASIA');\n",
    "print('Enkripsi cara pertama:')\n",
    "C = Enk(P); print(C)\n",
    "print('Enkripsi cara kedua:')\n",
    "print(HC.enciphering(key,P))\n",
    "print('Dekripsi cara pertama:')\n",
    "print(HC.enciphering(HC.inverse_key(key),C))\n",
    "print('Dekripsi cara kedua:')\n",
    "print(HC.deciphering(key,C))"
   ]
  },
  {
   "cell_type": "markdown",
   "metadata": {},
   "source": [
    "# Subtopik 3.2.5"
   ]
  },
  {
   "cell_type": "code",
   "execution_count": null,
   "metadata": {},
   "outputs": [],
   "source": [
    "dom = AlphabeticStrings()\n",
    "Vig = VigenereCryptosystem(dom,3)\n",
    "print(Vig)\n",
    "print('Kunci yang digunakan:')\n",
    "Key = dom.encoding('OKE')\n",
    "print(Key)\n",
    "print('Teks pesan:')\n",
    "P = dom.encoding('AYOMAIN')\n",
    "print(P)\n",
    "print('Teks sandi:')\n",
    "C = Vig.enciphering(Key,P)\n",
    "print(C)\n",
    "print('Pengujian kesamaan:')\n",
    "print(Vig.deciphering(Key,C) == P)\n",
    "print(Vig.enciphering(Vig.inverse_key(Key),C) == P)"
   ]
  },
  {
   "cell_type": "code",
   "execution_count": null,
   "metadata": {},
   "outputs": [],
   "source": [
    "dom = AlphabeticStrings()\n",
    "Vig = VigenereCryptosystem(dom,4)\n",
    "print(Vig)\n",
    "print('Kunci yang digunakan:')\n",
    "Key = Vig.random_key()\n",
    "print(Key)\n",
    "print('Teks pesan:')\n",
    "P = dom.encoding('AYOMAIN')\n",
    "print(P)\n",
    "print('Teks sandi:')\n",
    "C = Vig.enciphering(Key,P)\n",
    "print(C)\n",
    "print('Pengujian kesamaan:')\n",
    "print(Vig.deciphering(Key,C) == P)\n",
    "print(Vig.enciphering(Vig.inverse_key(Key),C) == P)"
   ]
  },
  {
   "cell_type": "markdown",
   "metadata": {},
   "source": [
    "# Subtopik 3.3"
   ]
  },
  {
   "cell_type": "code",
   "execution_count": null,
   "metadata": {},
   "outputs": [],
   "source": [
    "dom = AlphabeticStrings()\n",
    "n = 4\n",
    "trans = TranspositionCryptosystem(dom,n)\n",
    "print(trans)\n",
    "print('Kunci yang dipakai:')\n",
    "Sn = SymmetricGroup(n)\n",
    "K = [2,3,4,1];\n",
    "Key = Sn(K);\n",
    "print(Key)\n",
    "print('Teks pesan:')\n",
    "P = dom.encoding('HALO')\n",
    "print(P)\n",
    "print('Hasil enkripsi:')\n",
    "C = trans.enciphering(Key,P)\n",
    "print(C)"
   ]
  },
  {
   "cell_type": "code",
   "execution_count": null,
   "metadata": {},
   "outputs": [],
   "source": [
    "print('Dekripsi cara pertama:')\n",
    "D1 = trans.deciphering(Key,C)\n",
    "print(D1)\n",
    "print('Dekripsi cara kedua: ')\n",
    "print('Kunci dekripsi:')\n",
    "Keydec = trans.inverse_key(Key)\n",
    "print(Keydec)\n",
    "print('Hasi dekripsi:')\n",
    "D2 = trans.enciphering(Keydec,C)\n",
    "print(D2)"
   ]
  },
  {
   "cell_type": "code",
   "execution_count": null,
   "metadata": {},
   "outputs": [],
   "source": [
    "dom = AlphabeticStrings()\n",
    "n = 5\n",
    "trans = TranspositionCryptosystem(dom,n)\n",
    "print(trans)\n",
    "print('Kunci yang digunakan')\n",
    "K = trans.random_key()\n",
    "print(K)\n",
    "print('Teks pesan:')\n",
    "P = dom.encoding('PESAN')\n",
    "print(P)\n",
    "print('Hasil enkripsi:')\n",
    "C = trans.enciphering(K,P)\n",
    "print(C)\n",
    "print('Dekripsi cara pertama:')\n",
    "D1 = trans.deciphering(K,C)\n",
    "print(D1)\n",
    "print('Dekripsi cara kedua:')\n",
    "print('Kunci dekripsi:')\n",
    "K2 = trans.inverse_key(K)\n",
    "print(K2)\n",
    "print('Hasil dekripsi:')\n",
    "D2 = trans.enciphering(K2,C)\n",
    "print(D2)"
   ]
  }
 ],
 "metadata": {
  "kernelspec": {
   "display_name": "SageMath 9.0",
   "language": "sage",
   "name": "sagemath"
  },
  "language_info": {
   "codemirror_mode": {
    "name": "ipython",
    "version": 3
   },
   "file_extension": ".py",
   "mimetype": "text/x-python",
   "name": "python",
   "nbconvert_exporter": "python",
   "pygments_lexer": "ipython3",
   "version": "3.7.3"
  }
 },
 "nbformat": 4,
 "nbformat_minor": 2
}
