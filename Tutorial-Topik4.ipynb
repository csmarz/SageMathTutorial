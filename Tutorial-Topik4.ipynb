{
 "cells": [
  {
   "cell_type": "markdown",
   "metadata": {},
   "source": [
    "# Subtopik 4.1"
   ]
  },
  {
   "cell_type": "code",
   "execution_count": null,
   "metadata": {},
   "outputs": [],
   "source": [
    "from sage.crypto.block_cipher.sdes import SimplifiedDES\n",
    "sdes = SimplifiedDES(); print(sdes)\n",
    "bin = BinaryStrings(); print(bin)\n",
    "# Misalkan P adalah pesan\n",
    "P = [bin(str(randint(0, 1))) for i in range(8)]; print(P)\n",
    "# Misalkan K adalah kunci\n",
    "K = sdes.random_key(); print(K)\n",
    "# Misalkan C adalah ciphertext\n",
    "C = sdes.encrypt(P,K); print(C)\n",
    "plaintext = sdes.decrypt(C,K); print(plaintext);\n",
    "print(P == plaintext)"
   ]
  },
  {
   "cell_type": "code",
   "execution_count": null,
   "metadata": {},
   "outputs": [],
   "source": [
    "from sage.crypto.block_cipher.sdes import SimplifiedDES\n",
    "sdes = SimplifiedDES(); print(sdes)\n",
    "bin = BinaryStrings(); print(bin)\n",
    "# Misalkan P adalah pesan dalam bentuk 10100101\n",
    "P = [bin(str(1)), bin(str(0)), bin(str(1)), bin(str(0)),\n",
    "     bin(str(0)), bin(str(1)), bin(str(0)), bin(str(1))]\n",
    "print(P)\n",
    "# Misalkan K adalah kunci dalam bentuk 1111100000\n",
    "K = [bin(str(1)),bin(str(1)),bin(str(1)),bin(str(1)),bin(str(1)),\n",
    "     bin(str(0)),bin(str(0)),bin(str(0)),bin(str(0)),bin(str(0))]\n",
    "print(K)\n",
    "# Misalkan C adalah ciphertext\n",
    "C = sdes.encrypt(P,K); print(C)\n",
    "print(C)\n",
    "plaintext = sdes.decrypt(C,K); print(plaintext);\n",
    "print(P == plaintext)"
   ]
  },
  {
   "cell_type": "code",
   "execution_count": null,
   "metadata": {},
   "outputs": [],
   "source": [
    "from sage.crypto.block_cipher.sdes import SimplifiedDES\n",
    "sdes = SimplifiedDES()\n",
    "P = [0, 1, 0, 1, 0, 1, 0, 1];\n",
    "K = [1, 0, 1, 0, 0, 0, 0, 0, 1, 0]\n",
    "C = sdes.encrypt(P, K); print(C)"
   ]
  },
  {
   "cell_type": "code",
   "execution_count": null,
   "metadata": {},
   "outputs": [],
   "source": [
    "from sage.crypto.block_cipher.sdes import SimplifiedDES\n",
    "sdes = SimplifiedDES()\n",
    "P = '01010101';\n",
    "K = '1010000010';\n",
    "C = sdes.encrypt(sdes.string_to_list(P), sdes.string_to_list(K))\n",
    "print(C)"
   ]
  },
  {
   "cell_type": "code",
   "execution_count": null,
   "metadata": {},
   "outputs": [],
   "source": [
    "from sage.crypto.block_cipher.sdes import SimplifiedDES\n",
    "sdes = SimplifiedDES()\n",
    "C = [0, 1, 0, 1, 0, 1, 0, 1]\n",
    "K = [1, 0, 1, 0, 0, 0, 0, 0, 1, 0]\n",
    "P = sdes.decrypt(C, K); print(P)"
   ]
  },
  {
   "cell_type": "code",
   "execution_count": null,
   "metadata": {},
   "outputs": [],
   "source": [
    "from sage.crypto.block_cipher.sdes import SimplifiedDES\n",
    "sdes = SimplifiedDES()\n",
    "C = '01010101';\n",
    "K = '1010000010';\n",
    "P = sdes.decrypt(sdes.string_to_list(C), sdes.string_to_list(K));\n",
    "print(P)"
   ]
  },
  {
   "cell_type": "code",
   "execution_count": null,
   "metadata": {},
   "outputs": [],
   "source": [
    "from sage.crypto.block_cipher.sdes import SimplifiedDES\n",
    "sdes = SimplifiedDES()\n",
    "P = [randint(0,1) for i in range(8)]; print(P)\n",
    "K = [randint(0,1) for i in range(10)]; print(K)\n",
    "C = sdes.encrypt(P, K); print(C)\n",
    "plaintext = sdes.decrypt(C,K); print(P)\n",
    "print(plaintext == sdes.decrypt(sdes.encrypt(P,K),K))"
   ]
  },
  {
   "cell_type": "code",
   "execution_count": null,
   "metadata": {},
   "outputs": [],
   "source": [
    "from sage.crypto.block_cipher.sdes import SimplifiedDES\n",
    "from sage.crypto.util import bin_to_ascii\n",
    "sdes = SimplifiedDES(); print(sdes)\n",
    "bin = BinaryStrings(); print(bin)\n",
    "P = bin.encoding('Encrypt this using S-DES!'); \n",
    "print(len(P));\n",
    "print(len(P)% 8 == 0);\n",
    "K = sdes.list_to_string(sdes.random_key()); print(K)\n",
    "C = sdes(P,K,algorithm =\"encrypt\"); \n",
    "print(len(C))\n",
    "plaintext = sdes(C, K, algorithm=\"decrypt\");\n",
    "print(plaintext == P)\n",
    "print(bin_to_ascii(plaintext))"
   ]
  },
  {
   "cell_type": "markdown",
   "metadata": {},
   "source": [
    "# Subtopik 4.2"
   ]
  },
  {
   "cell_type": "code",
   "execution_count": null,
   "metadata": {},
   "outputs": [],
   "source": [
    "from sage.crypto.block_cipher.miniaes import MiniAES\n",
    "maes = MiniAES()\n",
    "# membangkitkan GF(16)\n",
    "F = FiniteField(16, \"x\")\n",
    "# membangkitkan ruang matriks GF(16) yang berukuran 2 kali 2\n",
    "MS = MatrixSpace(F, 2, 2) \n",
    "# Pesan ditulis dalam elemen di GF(16)\n",
    "print('Pesan yang dienkripsi:')\n",
    "P = MS([F(\"x^3 + x\"), F(\"x^2 + 1\"), F(\"x^2 + x\"), F(\"x^3 + x^2\")]); print(P)\n",
    "# Kunci adalah matriks atas GF(16) yang berukuran 2 x 2\n",
    "print('Kunci yang dipakai:')\n",
    "K = MS([F(\"x^3 + x^2\"), F(\"x^3 + x\"), F(\"x^3 + x^2 + x\"), F(\"x^2 + x + 1\")]); print(K)\n",
    "print('Hasil enkripsi: ')\n",
    "C = maes.encrypt(P, K); print(C) # proses enkripsi\n",
    "print('Hasil dekripsi: ')\n",
    "plaintext = maes.decrypt(C,K); print(plaintext) # proses dekripsi\n",
    "print('Pemeriksaan kesamaan teks pesan dan hasil dekripsi')\n",
    "print(plaintext == P)"
   ]
  },
  {
   "cell_type": "code",
   "execution_count": null,
   "metadata": {},
   "outputs": [],
   "source": [
    "from sage.crypto.block_cipher.miniaes import MiniAES\n",
    "maes = MiniAES()\n",
    "# membangkitkan ruang matriks 2 kali 2 atas GF(16)\n",
    "MS = MatrixSpace(GF(16, 'x'), 2, 2)\n",
    "print('Pesan yang digunakan: ')\n",
    "# membangkitkan pesan secara acak\n",
    "P = MS.random_element(); print(P)\n",
    "# membangkitkan kunci secara acak\n",
    "print('Kunci yang digunakan: ')\n",
    "K = maes.random_key(); print(K)\n",
    "# melakukan enkripsi\n",
    "print('Hasil enkripsi: ')\n",
    "C = maes.encrypt(P, K); print(C)\n",
    "# melakukan dekripsi\n",
    "plaintext = maes.decrypt(C, K)\n",
    "print('Kesamaan teks awal dan hasil dekripsi: ')\n",
    "# memeriksa kesamaan teks awal dan hasil dekripsi\n",
    "print(plaintext == P)"
   ]
  },
  {
   "cell_type": "code",
   "execution_count": null,
   "metadata": {},
   "outputs": [],
   "source": [
    "from sage.crypto.block_cipher.miniaes import MiniAES\n",
    "from sage.crypto.util import bin_to_ascii\n",
    "maes = MiniAES()\n",
    "bin = BinaryStrings()\n",
    "key = bin(str('0100101101000101'))\n",
    "# pesan awal:\n",
    "message = 'Encrypt this secret message!'\n",
    "print(message)\n",
    "P = bin.encoding(message)\n",
    "# hasil enkripsi:\n",
    "C = maes(P, key, algorithm=\"encrypt\")\n",
    "print(bin_to_ascii(C))\n",
    "plaintext = maes(C, key, algorithm=\"decrypt\")\n",
    "# memeriksa kesamaan teks awal dan hasil dekripsi\n",
    "print(plaintext == P)"
   ]
  }
 ],
 "metadata": {
  "kernelspec": {
   "display_name": "SageMath 9.0",
   "language": "sage",
   "name": "sagemath"
  },
  "language_info": {
   "codemirror_mode": {
    "name": "ipython",
    "version": 3
   },
   "file_extension": ".py",
   "mimetype": "text/x-python",
   "name": "python",
   "nbconvert_exporter": "python",
   "pygments_lexer": "ipython3",
   "version": "3.7.3"
  }
 },
 "nbformat": 4,
 "nbformat_minor": 2
}
